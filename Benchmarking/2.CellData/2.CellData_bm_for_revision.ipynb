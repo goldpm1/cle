{
 "cells": [
  {
   "cell_type": "code",
   "execution_count": 1,
   "metadata": {},
   "outputs": [
    {
     "data": {
      "image/png": "[encoded data removed]",
      "text/plain": [
       "<Figure size 504x252 with 1 Axes>"
      ]
     },
     "metadata": {
      "needs_background": "light"
     },
     "output_type": "display_data"
    }
   ],
   "source": [
    "import numpy as np \n",
    "import pandas as pd\n",
    "import os, glob\n",
    "\n",
    "def drawfigure (long_df, x, title, saveloc ):\n",
    "    import matplotlib \n",
    "    matplotlib.rcParams[\"font.family\"] = 'arial'\n",
    "    import palettable\n",
    "    import matplotlib.pyplot as plt\n",
    "    import seaborn as sns\n",
    "    from scipy.stats import ttest_ind\n",
    "\n",
    "    tabl = palettable.tableau.Tableau_20.mpl_colors\n",
    "    safe7 = palettable.cartocolors.qualitative.Vivid_10.mpl_colors\n",
    "    Gr_10 = palettable.scientific.sequential.GrayC_20.mpl_colors\n",
    "\n",
    "    colorlist = [i for i in safe7]\n",
    "    sns.set_style(\"white\")\n",
    "    #sns.set_palette(\"tab10\")\n",
    "    sns.set_palette(sns.color_palette(colorlist))\n",
    "\n",
    "\n",
    "    # Create a grouped bar graph\n",
    "    fig, ax = plt.subplots(1, figsize = (7, 3.5))\n",
    "    sns.barplot(x = x, y = 'mean', hue = 'tool', data = long_df, ax = ax)\n",
    "    ax.set_xlabel( x, fontsize = 12 )\n",
    "    ax.set_ylabel( \"MS\", fontsize = 12 )\n",
    "    ax.set_title( title , fontsize = 15, y = 0.98, fontweight = \"semibold\" )\n",
    "    ax.legend ( title = 'tool' )\n",
    "    plt.savefig ( saveloc, dpi = 300 )\n",
    "    plt.show()\n",
    "\n",
    "\n",
    "def bm_by_depth ( NUM_BLOCK_LIST, NUM_MUTATION_LIST, DEPTH_MEAN_LIST, NUM_PARENT_LIST, FP_RATIO_LIST, AXIS_RATIO_LIST):\n",
    "    toollist = [\"CLEMENT_decision\", \"pyclonevi\", \"sciclone\", \"quantumclone\"]\n",
    "\n",
    "    for NUM_PARENT in NUM_PARENT_LIST:        \n",
    "        for FP_RATIO in FP_RATIO_LIST:\n",
    "            for AXIS_RATIO in AXIS_RATIO_LIST:        \n",
    "                long_df = pd.DataFrame ( columns = [\"DEPTH_MEAN\", \"NUM_BLOCK\", \"NUM_MUTATION\", \"NUM_PARENT\", \"FP_RATIO\", \"AXIS_RATIO\", \"tool\", \"mean\", \"sd\"] )\n",
    "            \n",
    "                for DEPTH_MEAN in DEPTH_MEAN_LIST:\n",
    "                    for NUM_BLOCK in NUM_BLOCK_LIST:\n",
    "                        for NUM_MUTATION in NUM_MUTATION_LIST:\n",
    "                            INPUT_DIR_LIST = sorted ( glob.glob (\"/data/project/Alzheimer/CLEMENT/03.combinedoutput/2.CellData/CellData_\" + str(NUM_BLOCK) + \"D/*\" + str(DEPTH_MEAN) + \"x/parent_\" + str (NUM_PARENT) + \"/fp_\" + str(FP_RATIO) + \"/axis_\" + str(AXIS_RATIO) + \"/BM_FINAL.tsv\") )\n",
    "\n",
    "                            for INPUT_DIR in INPUT_DIR_LIST:\n",
    "                                if not os.path.exists ( INPUT_DIR ):\n",
    "                                    print (INPUT_DIR + \"없음\")\n",
    "                                    continue\n",
    "            \n",
    "                                df = pd.read_csv (INPUT_DIR , sep = \"\\t\", header = None, index_col = 0)\n",
    "                                for tool in toollist:\n",
    "                                    long_df.loc[len(long_df.index)] = [ DEPTH_MEAN, NUM_BLOCK, NUM_MUTATION, NUM_PARENT, FP_RATIO, AXIS_RATIO, tool, df.loc [tool][1], df.loc [tool][3] ]   # 맨 끝에 하나씩 추가\n",
    "                    \n",
    "                drawfigure (long_df, 'DEPTH_MEAN', \"CELLDATA - {} & {} & {}\".format (NUM_PARENT, FP_RATIO, AXIS_RATIO), \"/data/project/Alzheimer/YSscript/cle/Benchmarking/2.CellData/bm_for_revision/2.CellData-bydepth_{}_{}_{}.jpg\".format (NUM_PARENT, FP_RATIO, AXIS_RATIO))\n",
    "\n",
    "\n",
    "\n",
    "\n",
    "\n",
    "\n",
    "\n",
    "if __name__ == \"__main__\":\n",
    "    kwargs = {}\n",
    "\n",
    "    NUM_BLOCK_LIST = [  1  ]             # 1, 2, 3\n",
    "    NUM_MUTATION_LIST = [1000, 500, 100]    # 1000, 500, 100\n",
    "    DEPTH_MEAN_LIST = [250, 125, 30]       # 250, 125, 30\n",
    "    NUM_PARENT_LIST = [ 0 ]       # 0 , 1\n",
    "    FP_RATIO_LIST = [ 0.0  ]        # 0.0, 0.1\n",
    "    AXIS_RATIO_LIST = [ -1 ]        # -1, 0.0, 0.2\n",
    "\n",
    "    toollist = [\"CLEMENT_decision\", \"pyclonevi\", \"sciclone\", \"quantumclone\"]\n",
    "                           \n",
    "\n",
    "    # Depth에 따른 benchmark\n",
    "    bm_by_depth ( NUM_BLOCK_LIST, [500], DEPTH_MEAN_LIST, NUM_PARENT_LIST, FP_RATIO_LIST, AXIS_RATIO_LIST )\n",
    "    \n",
    "    #  NUM_MUTATION에 따른 benchmark\n",
    "    #bm_by_nummutation ( NUM_BLOCK_LIST, NUM_MUTATION_LIST, [250], NUM_PARENT_LIST, FP_RATIO_LIST, AXIS_RATIO_LIST )\n",
    "\n",
    "\n",
    "        "
   ]
  }
 ],
 "metadata": {
  "kernelspec": {
   "display_name": "Python 3.7.12 ('cnvpytor')",
   "language": "python",
   "name": "python3"
  },
  "language_info": {
   "codemirror_mode": {
    "name": "ipython",
    "version": 3
   },
   "file_extension": ".py",
   "mimetype": "text/x-python",
   "name": "python",
   "nbconvert_exporter": "python",
   "pygments_lexer": "ipython3",
   "version": "3.8.1"
  },
  "orig_nbformat": 4,
  "vscode": {
   "interpreter": {
    "hash": "b604463b8a902c2f122961866cb17f2bdae0c94d238d7f27f27d7b7f77c7b073"
   }
  }
 },
 "nbformat": 4,
 "nbformat_minor": 2
}
