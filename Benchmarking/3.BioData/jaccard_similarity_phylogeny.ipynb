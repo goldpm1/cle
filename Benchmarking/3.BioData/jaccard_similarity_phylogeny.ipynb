{
 "cells": [
  {
   "cell_type": "code",
   "execution_count": 1,
   "metadata": {},
   "outputs": [],
   "source": [
    "from scipy.cluster.hierarchy import dendrogram, linkage\n",
    "from scipy.spatial.distance import pdist\n",
    "import numpy as np\n",
    "import matplotlib.pyplot as plt\n",
    "import seaborn as sns\n",
    "from matplotlib.lines import Line2D\n",
    "\n",
    "import sys\n",
    "import os\n",
    "import scipy\n",
    "import gzip\n",
    "from scipy.stats import binom\n",
    "import matplotlib.pyplot as plt\n",
    "import numpy as np\n",
    "import pandas as pd\n",
    "import seaborn as sns\n",
    "from natsort import natsorted"
   ]
  },
  {
   "cell_type": "markdown",
   "metadata": {},
   "source": [
    "### ZF"
   ]
  },
  {
   "cell_type": "code",
   "execution_count": 2,
   "metadata": {},
   "outputs": [
    {
     "name": "stdout",
     "output_type": "stream",
     "text": [
      "['fasciculata_L1_input.txt', 'fasciculata_L2_input.txt', 'fasciculata_L3_input.txt', 'fasciculata_L4_input.txt', 'fasciculata_L5_input.txt']\n"
     ]
    }
   ],
   "source": [
    "input_dir = '/data/project/Alzheimer/EM_cluster/Moore_data/Ver2/OneSample_woMosaic/PD28690/adrenal_gland_zona'\n",
    "\n",
    "input_file = [i for i in os.listdir(input_dir) if 'fasciculata' in i]\n",
    "input_file.sort()\n",
    "print(input_file)\n",
    "\n",
    "total_variant = set()\n",
    "for file in input_file:\n",
    "    f = open(input_dir + '/' + file, 'r')\n",
    "    for fline in f:\n",
    "        ftab = fline.rstrip().split('\\t')\n",
    "        ID = ftab[0]\n",
    "        total_variant.add(ID)\n",
    "    f.close()\n",
    "total_variant = natsorted(list(total_variant))"
   ]
  },
  {
   "cell_type": "code",
   "execution_count": 3,
   "metadata": {},
   "outputs": [],
   "source": [
    "sample_dic = {}\n",
    "for file in input_file:\n",
    "    sample_name = file.rstrip().split('_')[1]\n",
    "    sample_dic[sample_name] = []\n",
    "    f = open(input_dir + '/' + file, 'r')\n",
    "    for fline in f:\n",
    "        ftab = fline.rstrip().split('\\t')\n",
    "        ID = ftab[0]\n",
    "        sample_dic[sample_name].append(ID)\n",
    "    f.close()\n",
    "    \n",
    "array_dic = {}\n",
    "for file in input_file:\n",
    "    sample_name = file.rstrip().split('_')[1]\n",
    "    array_dic[sample_name] = []\n",
    "    for variant in total_variant:\n",
    "        if variant in sample_dic[sample_name]:\n",
    "            array_dic[sample_name].append(1)\n",
    "        else:\n",
    "            array_dic[sample_name].append(0)"
   ]
  },
  {
   "cell_type": "code",
   "execution_count": 4,
   "metadata": {},
   "outputs": [
    {
     "name": "stdout",
     "output_type": "stream",
     "text": [
      "[[1 1 0 ... 0 0 0]\n",
      " [0 0 1 ... 0 0 0]\n",
      " [0 0 0 ... 1 0 1]\n",
      " [0 0 0 ... 1 1 0]\n",
      " [0 0 0 ... 0 0 0]]\n"
     ]
    }
   ],
   "source": [
    "import numpy as np\n",
    "# extract values from dictionary\n",
    "values = list(array_dic.values())\n",
    "# convert values to NumPy array\n",
    "data = np.array(values)\n",
    "print(data)"
   ]
  },
  {
   "cell_type": "code",
   "execution_count": 69,
   "metadata": {},
   "outputs": [
    {
     "name": "stdout",
     "output_type": "stream",
     "text": [
      "[[1.         0.39344262 0.00352113 0.00361011 0.0062422 ]\n",
      " [0.39344262 1.         0.00234055 0.00238949 0.00366972]\n",
      " [0.00352113 0.00234055 1.         0.47962649 0.09236569]\n",
      " [0.00361011 0.00238949 0.47962649 1.         0.10088149]\n",
      " [0.0062422  0.00366972 0.09236569 0.10088149 1.        ]]\n"
     ]
    },
    {
     "data": {
      "image/png": "[encoded data removed]",
      "text/plain": [
       "<Figure size 360x576 with 1 Axes>"
      ]
     },
     "metadata": {
      "needs_background": "light"
     },
     "output_type": "display_data"
    }
   ],
   "source": [
    "similarity_matrix = np.zeros((len(data), len(data)))\n",
    "for i in range(len(data)):\n",
    "    for j in range(len(data)):\n",
    "        intersection = np.sum(np.logical_and(data[i], data[j]))\n",
    "        union = np.sum(np.logical_or(data[i], data[j]))\n",
    "        similarity_matrix[i, j] = intersection / union\n",
    "print(similarity_matrix)\n",
    "\n",
    "# convert similarity matrix to distance matrix\n",
    "distance_matrix = 1 - similarity_matrix\n",
    "\n",
    "# perform UPGMA clustering\n",
    "linkage_matrix = linkage(squareform(distance_matrix), method='average')\n",
    "\n",
    "# draw dendrogram\n",
    "plt.figure(figsize=(5, 8))\n",
    "dendrogram(linkage_matrix, labels=['L1', 'L2', 'L3', 'L4', 'L5'])\n",
    "\n",
    "plt.xlabel('Zona Fasciculata')\n",
    "plt.ylabel('Distance')\n",
    "plt.title('UPGMA Clustering using Jaccard Similarity')\n",
    "plt.savefig('/home/octo0410/ZF_dendrogram.pdf', dpi=300, bbox_inches='tight')\n",
    "plt.show()"
   ]
  },
  {
   "cell_type": "markdown",
   "metadata": {},
   "source": [
    "### ZG"
   ]
  },
  {
   "cell_type": "code",
   "execution_count": 70,
   "metadata": {},
   "outputs": [
    {
     "name": "stdout",
     "output_type": "stream",
     "text": [
      "['glomerulosa_L1_input.txt', 'glomerulosa_L2_input.txt', 'glomerulosa_L3_input.txt', 'glomerulosa_L4_input.txt', 'glomerulosa_L5_input.txt']\n"
     ]
    }
   ],
   "source": [
    "input_dir = '/data/project/Alzheimer/EM_cluster/Moore_data/Ver2/OneSample_woMosaic/PD28690/adrenal_gland_zona'\n",
    "\n",
    "input_file = [i for i in os.listdir(input_dir) if 'glomerulosa' in i]\n",
    "input_file.sort()\n",
    "print(input_file)\n",
    "\n",
    "total_variant = set()\n",
    "for file in input_file:\n",
    "    f = open(input_dir + '/' + file, 'r')\n",
    "    for fline in f:\n",
    "        ftab = fline.rstrip().split('\\t')\n",
    "        ID = ftab[0]\n",
    "        total_variant.add(ID)\n",
    "    f.close()\n",
    "total_variant = natsorted(list(total_variant))"
   ]
  },
  {
   "cell_type": "code",
   "execution_count": 71,
   "metadata": {},
   "outputs": [],
   "source": [
    "sample_dic = {}\n",
    "for file in input_file:\n",
    "    sample_name = file.rstrip().split('_')[1]\n",
    "    sample_dic[sample_name] = []\n",
    "    f = open(input_dir + '/' + file, 'r')\n",
    "    for fline in f:\n",
    "        ftab = fline.rstrip().split('\\t')\n",
    "        ID = ftab[0]\n",
    "        sample_dic[sample_name].append(ID)\n",
    "    f.close()\n",
    "    \n",
    "array_dic = {}\n",
    "for file in input_file:\n",
    "    sample_name = file.rstrip().split('_')[1]\n",
    "    array_dic[sample_name] = []\n",
    "    for variant in total_variant:\n",
    "        if variant in sample_dic[sample_name]:\n",
    "            array_dic[sample_name].append(1)\n",
    "        else:\n",
    "            array_dic[sample_name].append(0)"
   ]
  },
  {
   "cell_type": "code",
   "execution_count": 72,
   "metadata": {},
   "outputs": [
    {
     "name": "stdout",
     "output_type": "stream",
     "text": [
      "[[1 0 1 ... 0 0 0]\n",
      " [1 1 1 ... 1 0 0]\n",
      " [0 0 0 ... 0 0 0]\n",
      " [0 0 0 ... 0 0 1]\n",
      " [0 0 0 ... 0 1 0]]\n"
     ]
    }
   ],
   "source": [
    "import numpy as np\n",
    "# extract values from dictionary\n",
    "values = list(array_dic.values())\n",
    "# convert values to NumPy array\n",
    "data = np.array(values)\n",
    "print(data)"
   ]
  },
  {
   "cell_type": "code",
   "execution_count": 73,
   "metadata": {},
   "outputs": [
    {
     "name": "stdout",
     "output_type": "stream",
     "text": [
      "[[1.00000000e+00 7.44186047e-01 5.39215686e-02 1.23456790e-02\n",
      "  2.77777778e-03]\n",
      " [7.44186047e-01 1.00000000e+00 4.86618005e-02 1.05515588e-02\n",
      "  2.40818784e-03]\n",
      " [5.39215686e-02 4.86618005e-02 1.00000000e+00 3.78554021e-01\n",
      "  7.97448166e-04]\n",
      " [1.23456790e-02 1.05515588e-02 3.78554021e-01 1.00000000e+00\n",
      "  2.23978920e-02]\n",
      " [2.77777778e-03 2.40818784e-03 7.97448166e-04 2.23978920e-02\n",
      "  1.00000000e+00]]\n"
     ]
    },
    {
     "data": {
      "image/png": "[encoded data removed]",
      "text/plain": [
       "<Figure size 360x576 with 1 Axes>"
      ]
     },
     "metadata": {
      "needs_background": "light"
     },
     "output_type": "display_data"
    }
   ],
   "source": [
    "similarity_matrix = np.zeros((len(data), len(data)))\n",
    "for i in range(len(data)):\n",
    "    for j in range(len(data)):\n",
    "        intersection = np.sum(np.logical_and(data[i], data[j]))\n",
    "        union = np.sum(np.logical_or(data[i], data[j]))\n",
    "        similarity_matrix[i, j] = intersection / union\n",
    "print(similarity_matrix)\n",
    "\n",
    "# convert similarity matrix to distance matrix\n",
    "distance_matrix = 1 - similarity_matrix\n",
    "\n",
    "# perform UPGMA clustering\n",
    "linkage_matrix = linkage(squareform(distance_matrix), method='average')\n",
    "\n",
    "# draw dendrogram\n",
    "plt.figure(figsize=(5, 8))\n",
    "dendrogram(linkage_matrix, labels=['L1', 'L2', 'L3', 'L4', 'L5'])\n",
    "\n",
    "plt.xlabel('Zona glomerulosa')\n",
    "plt.ylabel('Distance')\n",
    "plt.title('UPGMA Clustering using Jaccard Similarity')\n",
    "plt.savefig('/home/octo0410/ZG_dendrogram.pdf', dpi=300, bbox_inches='tight')\n",
    "plt.show()"
   ]
  }
 ],
 "metadata": {
  "kernelspec": {
   "display_name": "Python 3",
   "language": "python",
   "name": "python3"
  },
  "language_info": {
   "codemirror_mode": {
    "name": "ipython",
    "version": 3
   },
   "file_extension": ".py",
   "mimetype": "text/x-python",
   "name": "python",
   "nbconvert_exporter": "python",
   "pygments_lexer": "ipython3",
   "version": "3.8.1"
  }
 },
 "nbformat": 4,
 "nbformat_minor": 4
}
