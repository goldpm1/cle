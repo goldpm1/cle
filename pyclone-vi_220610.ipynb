{
 "cells": [
  {
   "cell_type": "code",
   "execution_count": 1,
   "metadata": {},
   "outputs": [
    {
     "name": "stderr",
     "output_type": "stream",
     "text": [
      "/home/goldpm1/miniconda3/envs/cnvpytor/lib/python3.7/site-packages/ipykernel_launcher.py:66: RuntimeWarning: invalid value encountered in sqrt\n"
     ]
    }
   ],
   "source": [
    "import h5py\n",
    "import numpy as np\n",
    "import pandas as pd\n",
    "\n",
    "\n",
    "in_file=\"/data/project/Alzheimer/EM_cluster/pilot/04.EM_input/pyclone_vi/pyclone_vi_220610.h5\"\n",
    "\n",
    "\n",
    "def fix_cluster_ids(df):\n",
    "    \"\"\" Renumber clusters so they are sequential from 0.\n",
    "    \"\"\"\n",
    "    cluster_map = dict(zip(\n",
    "        df['cluster_id'].unique(), np.arange(df['cluster_id'].nunique())\n",
    "    ))\n",
    "\n",
    "    df['cluster_id'] = df['cluster_id'].map(cluster_map)\n",
    "\n",
    "    return df\n",
    "\n",
    "\n",
    "def load_results_df(file_name):\n",
    "    cluster_df = load_cluster_df(file_name)\n",
    "\n",
    "    loci_df = load_loci_df(file_name)\n",
    "\n",
    "    df = pd.merge(cluster_df, loci_df, on=['cluster_id'])\n",
    "\n",
    "    df = df[[\n",
    "        'mutation_id',\n",
    "        'sample_id',\n",
    "        'cluster_id',\n",
    "        'cellular_prevalence',\n",
    "        'cellular_prevalence_std',\n",
    "        'cluster_assignment_prob'\n",
    "    ]]\n",
    "\n",
    "    df = df.sort_values(by=['cluster_id', 'mutation_id', 'sample_id'])\n",
    "\n",
    "    return df\n",
    "\n",
    "\n",
    "def load_cluster_df(file_name):\n",
    "    with h5py.File(file_name, 'r') as fh:\n",
    "        samples = fh['/data/samples'].asstr()[()]\n",
    "\n",
    "        theta = fh['/var_params/theta'][()]\n",
    "\n",
    "        z = fh['/var_params/z'][()]\n",
    "\n",
    "    labels = np.argmax(z, axis=1)\n",
    "\n",
    "    clusters = np.unique(labels)\n",
    "\n",
    "    df = []\n",
    "\n",
    "    x = np.linspace(0, 1, theta.shape[2])\n",
    "\n",
    "    for i, sample_id in enumerate(samples):\n",
    "        for cluster_id in clusters:\n",
    "            q = theta[cluster_id, i]\n",
    "\n",
    "            mean = np.sum(x * q)\n",
    "\n",
    "            var = np.sum(x ** 2 * q) - mean ** 2\n",
    "\n",
    "            std = np.sqrt(var)\n",
    "\n",
    "            df.append({\n",
    "                'sample_id': sample_id,\n",
    "                'cluster_id': cluster_id,\n",
    "                'cellular_prevalence': mean,\n",
    "                'cellular_prevalence_std': std\n",
    "            })\n",
    "\n",
    "    df = pd.DataFrame(df)\n",
    "\n",
    "    df = df[['sample_id', 'cluster_id', 'cellular_prevalence', 'cellular_prevalence_std']]\n",
    "\n",
    "    return df\n",
    "\n",
    "\n",
    "def load_loci_df(file_name):\n",
    "    with h5py.File(file_name, 'r') as fh:\n",
    "        mutations = fh['/data/mutations'].asstr()[()]\n",
    "\n",
    "        z = fh['/var_params/z'][()]\n",
    "\n",
    "    labels = np.argmax(z, axis=1)\n",
    "\n",
    "    probs = np.max(z, axis=1)\n",
    "\n",
    "    df = pd.DataFrame({\n",
    "        'mutation_id': mutations,\n",
    "        'cluster_id': labels,\n",
    "        'cluster_assignment_prob': probs\n",
    "    })\n",
    "\n",
    "    df = df[['mutation_id', 'cluster_id', 'cluster_assignment_prob']]\n",
    "\n",
    "    return df\n",
    "\n",
    "\n",
    "df = load_results_df(in_file)\n",
    "df = fix_cluster_ids(df)\n",
    "df = df.sort_values(by = \"mutation_id\")"
   ]
  },
  {
   "cell_type": "code",
   "execution_count": 83,
   "metadata": {},
   "outputs": [],
   "source": [
    "b1 = df[df[\"sample_id\"] == \"block0\"].iloc[:, 0:4]\n",
    "b2 = df[df[\"sample_id\"] == \"block1\"].iloc[:, 0:4]\n",
    "b = pd.merge (b1, b2, left_on = \"mutation_id\", right_on = \"mutation_id\")"
   ]
  },
  {
   "cell_type": "code",
   "execution_count": 84,
   "metadata": {},
   "outputs": [
    {
     "data": {
      "text/html": [
       "<div>\n",
       "<style scoped>\n",
       "    .dataframe tbody tr th:only-of-type {\n",
       "        vertical-align: middle;\n",
       "    }\n",
       "\n",
       "    .dataframe tbody tr th {\n",
       "        vertical-align: top;\n",
       "    }\n",
       "\n",
       "    .dataframe thead th {\n",
       "        text-align: right;\n",
       "    }\n",
       "</style>\n",
       "<table border=\"1\" class=\"dataframe\">\n",
       "  <thead>\n",
       "    <tr style=\"text-align: right;\">\n",
       "      <th></th>\n",
       "      <th>mutation_id</th>\n",
       "      <th>block0</th>\n",
       "      <th>block1</th>\n",
       "      <th>block2</th>\n",
       "    </tr>\n",
       "  </thead>\n",
       "  <tbody>\n",
       "    <tr>\n",
       "      <th>0</th>\n",
       "      <td>chr1_1050446</td>\n",
       "      <td>0.01</td>\n",
       "      <td>0.01</td>\n",
       "      <td>0.04</td>\n",
       "    </tr>\n",
       "    <tr>\n",
       "      <th>1</th>\n",
       "      <td>chr1_1332968</td>\n",
       "      <td>0.02</td>\n",
       "      <td>0.01</td>\n",
       "      <td>0.05</td>\n",
       "    </tr>\n",
       "    <tr>\n",
       "      <th>2</th>\n",
       "      <td>chr1_1399095</td>\n",
       "      <td>0.07</td>\n",
       "      <td>0.26</td>\n",
       "      <td>0.03</td>\n",
       "    </tr>\n",
       "    <tr>\n",
       "      <th>3</th>\n",
       "      <td>chr1_2321531</td>\n",
       "      <td>0.15</td>\n",
       "      <td>0.09</td>\n",
       "      <td>0.15</td>\n",
       "    </tr>\n",
       "    <tr>\n",
       "      <th>4</th>\n",
       "      <td>chr1_7664353</td>\n",
       "      <td>0.02</td>\n",
       "      <td>0.02</td>\n",
       "      <td>0.04</td>\n",
       "    </tr>\n",
       "  </tbody>\n",
       "</table>\n",
       "</div>"
      ],
      "text/plain": [
       "    mutation_id  block0  block1  block2\n",
       "0  chr1_1050446    0.01    0.01    0.04\n",
       "1  chr1_1332968    0.02    0.01    0.05\n",
       "2  chr1_1399095    0.07    0.26    0.03\n",
       "3  chr1_2321531    0.15    0.09    0.15\n",
       "4  chr1_7664353    0.02    0.02    0.04"
      ]
     },
     "execution_count": 84,
     "metadata": {},
     "output_type": "execute_result"
    }
   ],
   "source": [
    "np_vaf = pd.read_csv(\"/data/project/Alzheimer/EM_cluster/pilot/04.EM_input/sampling_1000.txt\", sep = \"\\t\")\n",
    "np_vaf.rename(columns = {\"Unnamed: 0\":\"mutation_id\"}, inplace = True) \n",
    "np_vaf.head()"
   ]
  },
  {
   "cell_type": "code",
   "execution_count": 85,
   "metadata": {},
   "outputs": [],
   "source": [
    "b = pd.merge (b, np_vaf, left_on = \"mutation_id\", right_on = \"mutation_id\")"
   ]
  },
  {
   "cell_type": "code",
   "execution_count": 81,
   "metadata": {},
   "outputs": [
    {
     "data": {
      "text/plain": [
       "<AxesSubplot:xlabel='Feature 1 : VAF*2 of Block 1', ylabel='Feature 2 : VAF*2 of Block 2'>"
      ]
     },
     "execution_count": 81,
     "metadata": {},
     "output_type": "execute_result"
    },
    {
     "data": {
      "image/png": "[encoded data removed]",
      "text/plain": [
       "<Figure size 432x432 with 1 Axes>"
      ]
     },
     "metadata": {
      "needs_background": "light"
     },
     "output_type": "display_data"
    }
   ],
   "source": [
    "import matplotlib.pyplot as plt\n",
    "import seaborn as sns\n",
    "import palettable\n",
    "vivid_10 = palettable.cartocolors.qualitative.Vivid_10.mpl_colors\n",
    "colorlist = {key:value for key, value in enumerate(vivid_10)}\n",
    "\n",
    "plt.figure (figsize = (6,6))\n",
    "# plt.suptitle (\"PyClone_vi : (n = {0}\".format(np_vaf.shape[0]))\n",
    "plt.axis ([0,  np.max(np.array(np_vaf.iloc[:,1:])) * 1.1,  0,  np.max(np.array(np_vaf.iloc[:,1:])) * 1.1])\n",
    "plt.xlabel (\"Feature 1 : VAF*2 of Block 1\")\n",
    "plt.ylabel (\"Feature 2 : VAF*2 of Block 2\")\n",
    "\n",
    "palette = sns.color_palette(\"Paired\")\n",
    "sns.scatterplot(data = b, x = 'block0', y = 'block1', hue = \"cluster_id_x\", palette = colorlist)"
   ]
  },
  {
   "cell_type": "code",
   "execution_count": 72,
   "metadata": {},
   "outputs": [
    {
     "data": {
      "text/plain": [
       "array([[0.01, 0.01, 0.03],\n",
       "       [0.14, 0.06, 0.16],\n",
       "       [0.02, 0.02, 0.05],\n",
       "       ...,\n",
       "       [0.  , 0.  , 0.01],\n",
       "       [0.  , 0.  , 0.  ],\n",
       "       [0.  , 0.  , 0.  ]])"
      ]
     },
     "execution_count": 72,
     "metadata": {},
     "output_type": "execute_result"
    }
   ],
   "source": [
    "np.array(np_vaf.iloc[:,1:])"
   ]
  }
 ],
 "metadata": {
  "interpreter": {
   "hash": "b604463b8a902c2f122961866cb17f2bdae0c94d238d7f27f27d7b7f77c7b073"
  },
  "kernelspec": {
   "display_name": "Python 3.7.12 ('cnvpytor')",
   "language": "python",
   "name": "python3"
  },
  "language_info": {
   "codemirror_mode": {
    "name": "ipython",
    "version": 3
   },
   "file_extension": ".py",
   "mimetype": "text/x-python",
   "name": "python",
   "nbconvert_exporter": "python",
   "pygments_lexer": "ipython3",
   "version": "3.7.12"
  },
  "orig_nbformat": 4
 },
 "nbformat": 4,
 "nbformat_minor": 2
}
