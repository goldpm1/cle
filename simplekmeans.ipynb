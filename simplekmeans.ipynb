{
 "cells": [
  {
   "cell_type": "code",
   "execution_count": 17,
   "metadata": {},
   "outputs": [
    {
     "ename": "ValueError",
     "evalue": "Expected 2D array, got 1D array instead:\narray=[0.16 0.16 0.18 0.18 0.17 0.18 0.22 0.15 0.14 0.14 0.23 0.16 0.13 0.2\n 0.16 0.19 0.2  0.12 0.14 0.16 0.13 0.15 0.16 0.2  0.16 0.13 0.18 0.14\n 0.14 0.18 0.17 0.17 0.14 0.14 0.21 0.2  0.18 0.2  0.16 0.14 0.16 0.21\n 0.19 0.19 0.21 0.17 0.18 0.2  0.14 0.16 0.22 0.21 0.15 0.16 0.15 0.19\n 0.21 0.13 0.19 0.13 0.12 0.17 0.18 0.14 0.2  0.21 0.23 0.15 0.14 0.19\n 0.21 0.19 0.21 0.17 0.18 0.17 0.17 0.18 0.13 0.18 0.11 0.21 0.15 0.17\n 0.16 0.17 0.14 0.15 0.18 0.11 0.19 0.17 0.23 0.18 0.13 0.12 0.16 0.21\n 0.18 0.2  0.1  0.22 0.11 0.11 0.17 0.09 0.13 0.17 0.12 0.12 0.12 0.21\n 0.16 0.16 0.16 0.23 0.25 0.25 0.27 0.25 0.19 0.24 0.23 0.22 0.29 0.19\n 0.23 0.31 0.23 0.22 0.25 0.22 0.26 0.24 0.26 0.29 0.27 0.23 0.23 0.22\n 0.25 0.21 0.28 0.25 0.24 0.24 0.26 0.25 0.28 0.19 0.26 0.26 0.22 0.26\n 0.29 0.25 0.21 0.23 0.22 0.22 0.25 0.21 0.24 0.27 0.23 0.2  0.23 0.23\n 0.26 0.26 0.25 0.22 0.22 0.22 0.3  0.29 0.21 0.22 0.24 0.23 0.24 0.2\n 0.26 0.28 0.22 0.17 0.19 0.19 0.28 0.22 0.26 0.21 0.17 0.28 0.19 0.27\n 0.21 0.22 0.21 0.22 0.26 0.28 0.23 0.25 0.23 0.2  0.26 0.22 0.23 0.24\n 0.25 0.25 0.24 0.23 0.21 0.31 0.22 0.25 0.31 0.21 0.33 0.22 0.25 0.28\n 0.28 0.29 0.21 0.19 0.25 0.23 0.24 0.25 0.3  0.26 0.25 0.22 0.2  0.22\n 0.28 0.25 0.19 0.26 0.18 0.28 0.25 0.23 0.26 0.23 0.24 0.24 0.17 0.17\n 0.09 0.06 0.06 0.04 0.07 0.11 0.04 0.1  0.1  0.07 0.07 0.11 0.03 0.06\n 0.1  0.03 0.07 0.1  0.09 0.05 0.05 0.07 0.1  0.06 0.11 0.11 0.1  0.06\n 0.07 0.05 0.08 0.04 0.08 0.06 0.1  0.03 0.05 0.06 0.08 0.06 0.07 0.06\n 0.07 0.09 0.06 0.07 0.09 0.05 0.08 0.1  0.07 0.05 0.1  0.06 0.08 0.07\n 0.05 0.14 0.07 0.07 0.07 0.08 0.06 0.11 0.06 0.04 0.05 0.08 0.07 0.07\n 0.1  0.1  0.09 0.05 0.08 0.05 0.11 0.1  0.08 0.09 0.08 0.06 0.12 0.08\n 0.11 0.05 0.07 0.07 0.06 0.15 0.1  0.06 0.04 0.06 0.11 0.08 0.08 0.03\n 0.07 0.07 0.07 0.06 0.11 0.07 0.05 0.05 0.15 0.05 0.07 0.06 0.08 0.09\n 0.13 0.09 0.08 0.05 0.08 0.07 0.07 0.04 0.13 0.09 0.09 0.06 0.09 0.02\n 0.02 0.02 0.   0.01 0.02 0.   0.02 0.05 0.01 0.01 0.01 0.02 0.01 0.03\n 0.03 0.01 0.02 0.02 0.03 0.02 0.02 0.02 0.01 0.01 0.01 0.   0.02 0.03\n 0.03 0.01 0.03 0.03 0.02 0.01 0.   0.01 0.02 0.01 0.02 0.02 0.01 0.01\n 0.01 0.01 0.01 0.02 0.01 0.   0.01 0.01 0.01 0.01 0.02 0.01 0.01 0.02\n 0.01 0.02 0.   0.01 0.04 0.04 0.02 0.01 0.01 0.01 0.02 0.01 0.02 0.02\n 0.01 0.01 0.01 0.02 0.02 0.02 0.05 0.01 0.05 0.03 0.01 0.01 0.04 0.01\n 0.03 0.01 0.04 0.01 0.01 0.01 0.   0.01 0.04 0.02 0.04 0.01 0.02 0.01\n 0.01 0.01 0.   0.04 0.01 0.07 0.02 0.   0.03 0.03 0.04 0.01 0.   0.02\n 0.   0.04 0.04 0.03 0.01 0.02 0.04 0.01 0.01 0.05].\nReshape your data either using array.reshape(-1, 1) if your data has a single feature or array.reshape(1, -1) if it contains a single sample.",
     "output_type": "error",
     "traceback": [
      "\u001b[0;31m---------------------------------------------------------------------------\u001b[0m",
      "\u001b[0;31mValueError\u001b[0m                                Traceback (most recent call last)",
      "\u001b[0;32m<ipython-input-17-ef7851230515>\u001b[0m in \u001b[0;36m<module>\u001b[0;34m\u001b[0m\n\u001b[1;32m     22\u001b[0m     \u001b[0;32mfor\u001b[0m \u001b[0mk\u001b[0m \u001b[0;32min\u001b[0m \u001b[0mrange\u001b[0m \u001b[0;34m(\u001b[0m\u001b[0mkwargs\u001b[0m \u001b[0;34m[\u001b[0m\u001b[0;34m\"NUM_CLONE_TRIAL_START\"\u001b[0m\u001b[0;34m]\u001b[0m\u001b[0;34m,\u001b[0m \u001b[0mkwargs\u001b[0m\u001b[0;34m[\u001b[0m\u001b[0;34m\"NUM_CLONE_TRIAL_END\"\u001b[0m\u001b[0;34m]\u001b[0m \u001b[0;34m+\u001b[0m \u001b[0;36m1\u001b[0m\u001b[0;34m)\u001b[0m\u001b[0;34m:\u001b[0m\u001b[0;34m\u001b[0m\u001b[0;34m\u001b[0m\u001b[0m\n\u001b[1;32m     23\u001b[0m         \u001b[0mkmeans\u001b[0m \u001b[0;34m=\u001b[0m \u001b[0mKMeans\u001b[0m\u001b[0;34m(\u001b[0m\u001b[0mn_clusters\u001b[0m \u001b[0;34m=\u001b[0m \u001b[0mk\u001b[0m\u001b[0;34m,\u001b[0m \u001b[0minit\u001b[0m\u001b[0;34m=\u001b[0m\u001b[0;34m'k-means++'\u001b[0m\u001b[0;34m,\u001b[0m \u001b[0mmax_iter\u001b[0m\u001b[0;34m=\u001b[0m\u001b[0;36m100\u001b[0m\u001b[0;34m,\u001b[0m\u001b[0mrandom_state\u001b[0m\u001b[0;34m=\u001b[0m\u001b[0;36m0\u001b[0m\u001b[0;34m)\u001b[0m  \u001b[0;31m# model generation\u001b[0m\u001b[0;34m\u001b[0m\u001b[0;34m\u001b[0m\u001b[0m\n\u001b[0;32m---> 24\u001b[0;31m         \u001b[0mkmeans\u001b[0m\u001b[0;34m.\u001b[0m\u001b[0mfit\u001b[0m \u001b[0;34m(\u001b[0m\u001b[0mnp_vaf\u001b[0m\u001b[0;34m.\u001b[0m\u001b[0miloc\u001b[0m\u001b[0;34m[\u001b[0m\u001b[0;34m:\u001b[0m\u001b[0;34m,\u001b[0m \u001b[0;36m0\u001b[0m\u001b[0;34m]\u001b[0m \u001b[0;34m)\u001b[0m\u001b[0;34m\u001b[0m\u001b[0;34m\u001b[0m\u001b[0m\n\u001b[0m\u001b[1;32m     25\u001b[0m         \u001b[0msimpleK\u001b[0m\u001b[0;34m.\u001b[0m\u001b[0mmembership_record\u001b[0m \u001b[0;34m[\u001b[0m\u001b[0mk\u001b[0m\u001b[0;34m]\u001b[0m \u001b[0;34m=\u001b[0m \u001b[0mkmeans\u001b[0m\u001b[0;34m.\u001b[0m\u001b[0mlabels_\u001b[0m\u001b[0;34m\u001b[0m\u001b[0;34m\u001b[0m\u001b[0m\n\u001b[1;32m     26\u001b[0m \u001b[0;34m\u001b[0m\u001b[0m\n",
      "\u001b[0;32m/opt/Yonsei/python/3.8.1/lib/python3.8/site-packages/sklearn/cluster/_kmeans.py\u001b[0m in \u001b[0;36mfit\u001b[0;34m(self, X, y, sample_weight)\u001b[0m\n\u001b[1;32m   1415\u001b[0m         \u001b[0mself\u001b[0m\u001b[0;34m.\u001b[0m\u001b[0m_validate_params\u001b[0m\u001b[0;34m(\u001b[0m\u001b[0;34m)\u001b[0m\u001b[0;34m\u001b[0m\u001b[0;34m\u001b[0m\u001b[0m\n\u001b[1;32m   1416\u001b[0m \u001b[0;34m\u001b[0m\u001b[0m\n\u001b[0;32m-> 1417\u001b[0;31m         X = self._validate_data(\n\u001b[0m\u001b[1;32m   1418\u001b[0m             \u001b[0mX\u001b[0m\u001b[0;34m,\u001b[0m\u001b[0;34m\u001b[0m\u001b[0;34m\u001b[0m\u001b[0m\n\u001b[1;32m   1419\u001b[0m             \u001b[0maccept_sparse\u001b[0m\u001b[0;34m=\u001b[0m\u001b[0;34m\"csr\"\u001b[0m\u001b[0;34m,\u001b[0m\u001b[0;34m\u001b[0m\u001b[0;34m\u001b[0m\u001b[0m\n",
      "\u001b[0;32m/opt/Yonsei/python/3.8.1/lib/python3.8/site-packages/sklearn/base.py\u001b[0m in \u001b[0;36m_validate_data\u001b[0;34m(self, X, y, reset, validate_separately, **check_params)\u001b[0m\n\u001b[1;32m    533\u001b[0m             \u001b[0;32mraise\u001b[0m \u001b[0mValueError\u001b[0m\u001b[0;34m(\u001b[0m\u001b[0;34m\"Validation should be done on X, y or both.\"\u001b[0m\u001b[0;34m)\u001b[0m\u001b[0;34m\u001b[0m\u001b[0;34m\u001b[0m\u001b[0m\n\u001b[1;32m    534\u001b[0m         \u001b[0;32melif\u001b[0m \u001b[0;32mnot\u001b[0m \u001b[0mno_val_X\u001b[0m \u001b[0;32mand\u001b[0m \u001b[0mno_val_y\u001b[0m\u001b[0;34m:\u001b[0m\u001b[0;34m\u001b[0m\u001b[0;34m\u001b[0m\u001b[0m\n\u001b[0;32m--> 535\u001b[0;31m             \u001b[0mX\u001b[0m \u001b[0;34m=\u001b[0m \u001b[0mcheck_array\u001b[0m\u001b[0;34m(\u001b[0m\u001b[0mX\u001b[0m\u001b[0;34m,\u001b[0m \u001b[0minput_name\u001b[0m\u001b[0;34m=\u001b[0m\u001b[0;34m\"X\"\u001b[0m\u001b[0;34m,\u001b[0m \u001b[0;34m**\u001b[0m\u001b[0mcheck_params\u001b[0m\u001b[0;34m)\u001b[0m\u001b[0;34m\u001b[0m\u001b[0;34m\u001b[0m\u001b[0m\n\u001b[0m\u001b[1;32m    536\u001b[0m             \u001b[0mout\u001b[0m \u001b[0;34m=\u001b[0m \u001b[0mX\u001b[0m\u001b[0;34m\u001b[0m\u001b[0;34m\u001b[0m\u001b[0m\n\u001b[1;32m    537\u001b[0m         \u001b[0;32melif\u001b[0m \u001b[0mno_val_X\u001b[0m \u001b[0;32mand\u001b[0m \u001b[0;32mnot\u001b[0m \u001b[0mno_val_y\u001b[0m\u001b[0;34m:\u001b[0m\u001b[0;34m\u001b[0m\u001b[0;34m\u001b[0m\u001b[0m\n",
      "\u001b[0;32m/opt/Yonsei/python/3.8.1/lib/python3.8/site-packages/sklearn/utils/validation.py\u001b[0m in \u001b[0;36mcheck_array\u001b[0;34m(array, accept_sparse, accept_large_sparse, dtype, order, copy, force_all_finite, ensure_2d, allow_nd, ensure_min_samples, ensure_min_features, estimator, input_name)\u001b[0m\n\u001b[1;32m    898\u001b[0m             \u001b[0;31m# If input is 1D raise error\u001b[0m\u001b[0;34m\u001b[0m\u001b[0;34m\u001b[0m\u001b[0;34m\u001b[0m\u001b[0m\n\u001b[1;32m    899\u001b[0m             \u001b[0;32mif\u001b[0m \u001b[0marray\u001b[0m\u001b[0;34m.\u001b[0m\u001b[0mndim\u001b[0m \u001b[0;34m==\u001b[0m \u001b[0;36m1\u001b[0m\u001b[0;34m:\u001b[0m\u001b[0;34m\u001b[0m\u001b[0;34m\u001b[0m\u001b[0m\n\u001b[0;32m--> 900\u001b[0;31m                 raise ValueError(\n\u001b[0m\u001b[1;32m    901\u001b[0m                     \u001b[0;34m\"Expected 2D array, got 1D array instead:\\narray={}.\\n\"\u001b[0m\u001b[0;34m\u001b[0m\u001b[0;34m\u001b[0m\u001b[0m\n\u001b[1;32m    902\u001b[0m                     \u001b[0;34m\"Reshape your data either using array.reshape(-1, 1) if \"\u001b[0m\u001b[0;34m\u001b[0m\u001b[0;34m\u001b[0m\u001b[0m\n",
      "\u001b[0;31mValueError\u001b[0m: Expected 2D array, got 1D array instead:\narray=[0.16 0.16 0.18 0.18 0.17 0.18 0.22 0.15 0.14 0.14 0.23 0.16 0.13 0.2\n 0.16 0.19 0.2  0.12 0.14 0.16 0.13 0.15 0.16 0.2  0.16 0.13 0.18 0.14\n 0.14 0.18 0.17 0.17 0.14 0.14 0.21 0.2  0.18 0.2  0.16 0.14 0.16 0.21\n 0.19 0.19 0.21 0.17 0.18 0.2  0.14 0.16 0.22 0.21 0.15 0.16 0.15 0.19\n 0.21 0.13 0.19 0.13 0.12 0.17 0.18 0.14 0.2  0.21 0.23 0.15 0.14 0.19\n 0.21 0.19 0.21 0.17 0.18 0.17 0.17 0.18 0.13 0.18 0.11 0.21 0.15 0.17\n 0.16 0.17 0.14 0.15 0.18 0.11 0.19 0.17 0.23 0.18 0.13 0.12 0.16 0.21\n 0.18 0.2  0.1  0.22 0.11 0.11 0.17 0.09 0.13 0.17 0.12 0.12 0.12 0.21\n 0.16 0.16 0.16 0.23 0.25 0.25 0.27 0.25 0.19 0.24 0.23 0.22 0.29 0.19\n 0.23 0.31 0.23 0.22 0.25 0.22 0.26 0.24 0.26 0.29 0.27 0.23 0.23 0.22\n 0.25 0.21 0.28 0.25 0.24 0.24 0.26 0.25 0.28 0.19 0.26 0.26 0.22 0.26\n 0.29 0.25 0.21 0.23 0.22 0.22 0.25 0.21 0.24 0.27 0.23 0.2  0.23 0.23\n 0.26 0.26 0.25 0.22 0.22 0.22 0.3  0.29 0.21 0.22 0.24 0.23 0.24 0.2\n 0.26 0.28 0.22 0.17 0.19 0.19 0.28 0.22 0.26 0.21 0.17 0.28 0.19 0.27\n 0.21 0.22 0.21 0.22 0.26 0.28 0.23 0.25 0.23 0.2  0.26 0.22 0.23 0.24\n 0.25 0.25 0.24 0.23 0.21 0.31 0.22 0.25 0.31 0.21 0.33 0.22 0.25 0.28\n 0.28 0.29 0.21 0.19 0.25 0.23 0.24 0.25 0.3  0.26 0.25 0.22 0.2  0.22\n 0.28 0.25 0.19 0.26 0.18 0.28 0.25 0.23 0.26 0.23 0.24 0.24 0.17 0.17\n 0.09 0.06 0.06 0.04 0.07 0.11 0.04 0.1  0.1  0.07 0.07 0.11 0.03 0.06\n 0.1  0.03 0.07 0.1  0.09 0.05 0.05 0.07 0.1  0.06 0.11 0.11 0.1  0.06\n 0.07 0.05 0.08 0.04 0.08 0.06 0.1  0.03 0.05 0.06 0.08 0.06 0.07 0.06\n 0.07 0.09 0.06 0.07 0.09 0.05 0.08 0.1  0.07 0.05 0.1  0.06 0.08 0.07\n 0.05 0.14 0.07 0.07 0.07 0.08 0.06 0.11 0.06 0.04 0.05 0.08 0.07 0.07\n 0.1  0.1  0.09 0.05 0.08 0.05 0.11 0.1  0.08 0.09 0.08 0.06 0.12 0.08\n 0.11 0.05 0.07 0.07 0.06 0.15 0.1  0.06 0.04 0.06 0.11 0.08 0.08 0.03\n 0.07 0.07 0.07 0.06 0.11 0.07 0.05 0.05 0.15 0.05 0.07 0.06 0.08 0.09\n 0.13 0.09 0.08 0.05 0.08 0.07 0.07 0.04 0.13 0.09 0.09 0.06 0.09 0.02\n 0.02 0.02 0.   0.01 0.02 0.   0.02 0.05 0.01 0.01 0.01 0.02 0.01 0.03\n 0.03 0.01 0.02 0.02 0.03 0.02 0.02 0.02 0.01 0.01 0.01 0.   0.02 0.03\n 0.03 0.01 0.03 0.03 0.02 0.01 0.   0.01 0.02 0.01 0.02 0.02 0.01 0.01\n 0.01 0.01 0.01 0.02 0.01 0.   0.01 0.01 0.01 0.01 0.02 0.01 0.01 0.02\n 0.01 0.02 0.   0.01 0.04 0.04 0.02 0.01 0.01 0.01 0.02 0.01 0.02 0.02\n 0.01 0.01 0.01 0.02 0.02 0.02 0.05 0.01 0.05 0.03 0.01 0.01 0.04 0.01\n 0.03 0.01 0.04 0.01 0.01 0.01 0.   0.01 0.04 0.02 0.04 0.01 0.02 0.01\n 0.01 0.01 0.   0.04 0.01 0.07 0.02 0.   0.03 0.03 0.04 0.01 0.   0.02\n 0.   0.04 0.04 0.03 0.01 0.02 0.04 0.01 0.01 0.05].\nReshape your data either using array.reshape(-1, 1) if your data has a single feature or array.reshape(1, -1) if it contains a single sample."
     ]
    }
   ],
   "source": [
    "class simpleKmeansObject:\n",
    "    def __init__(self, **kwargs):\n",
    "        self.likelihood_record = [[]] * (kwargs[\"NUM_CLONE_TRIAL_END\"] + 1)\n",
    "        self.mixture_record = [[]] * (kwargs[\"NUM_CLONE_TRIAL_END\"] + 1)\n",
    "        self.membership_record = [[]] * (kwargs[\"NUM_CLONE_TRIAL_END\"] + 1)\n",
    "        \n",
    "\n",
    "#def clustering (np_vaf, **kwargs):\n",
    "if __name__ == \"__main__\":\n",
    "    from sklearn.cluster import KMeans\n",
    "    import numpy as np\n",
    "    import pandas as pd\n",
    "\n",
    "    np_vaf = pd.read_csv ( \"/data/project/Alzheimer/CLEMENT/02.npvaf/1.SimData/SimData_1D/n500_100x/decoy/0.0/clone_3/0/npvaf.txt\", sep = \"\\t\", index_col = 0)\n",
    "    \n",
    "    kwargs = {}\n",
    "    kwargs [\"NUM_CLONE_TRIAL_START\"] = 2\n",
    "    kwargs [\"NUM_CLONE_TRIAL_END\"] = 3\n",
    "\n",
    "    simpleK =  simpleKmeansObject ( **kwargs )\n",
    "\n",
    "    for k in range (kwargs [\"NUM_CLONE_TRIAL_START\"], kwargs[\"NUM_CLONE_TRIAL_END\"] + 1):\n",
    "        kmeans = KMeans(n_clusters = k, init='k-means++', max_iter=100,random_state=0)  # model generation\n",
    "        kmeans.fit (np_vaf.iloc[:, 0] )  \n",
    "        simpleK.membership_record [k] = kmeans.labels_ \n",
    "        kmeans.cluster_centers_\n",
    "\n",
    "        simpleK."
   ]
  }
 ],
 "metadata": {
  "kernelspec": {
   "display_name": "Python 3",
   "language": "python",
   "name": "python3"
  },
  "language_info": {
   "codemirror_mode": {
    "name": "ipython",
    "version": 3
   },
   "file_extension": ".py",
   "mimetype": "text/x-python",
   "name": "python",
   "nbconvert_exporter": "python",
   "pygments_lexer": "ipython3",
   "version": "3.8.1"
  },
  "orig_nbformat": 4
 },
 "nbformat": 4,
 "nbformat_minor": 2
}
